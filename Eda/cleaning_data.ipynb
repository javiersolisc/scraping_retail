{
 "cells": [
  {
   "cell_type": "markdown",
   "id": "7050e0d2",
   "metadata": {},
   "source": [
    "# Primera limpieza con base de datos junta"
   ]
  },
  {
   "cell_type": "code",
   "execution_count": null,
   "id": "f4040b98-67bd-4c0f-9dff-eb74df75fc12",
   "metadata": {
    "scrolled": true
   },
   "outputs": [],
   "source": [
    "import pandas as pd\n",
    "import numpy as np"
   ]
  },
  {
   "cell_type": "code",
   "execution_count": null,
   "id": "63cfe2a1-8cd9-446b-ace2-81786e540b8a",
   "metadata": {
    "scrolled": true
   },
   "outputs": [],
   "source": [
    "df1 = pd.read_csv('ripley.csv', sep = \";\")\n",
    "df2 = pd.read_csv('vea.csv', sep = \";\", encoding='ISO-8859-1')\n",
    "df3 = pd.read_csv('saga.csv', sep = \";\")\n",
    "df4 = pd.concat([df1, df2, df3])\n",
    "df4"
   ]
  },
  {
   "cell_type": "code",
   "execution_count": null,
   "id": "7c349337-d4cf-4952-8e99-ab99271fbdff",
   "metadata": {
    "jupyter": {
     "outputs_hidden": true
    },
    "scrolled": true,
    "tags": []
   },
   "outputs": [],
   "source": [
    "df4.info()"
   ]
  },
  {
   "cell_type": "markdown",
   "id": "028873c1",
   "metadata": {},
   "source": [
    "### Revisamos las variables numéricas"
   ]
  },
  {
   "cell_type": "code",
   "execution_count": null,
   "id": "4b34a4c0-2c7f-4f2f-af6e-046c539ad4fb",
   "metadata": {
    "scrolled": true
   },
   "outputs": [],
   "source": [
    "df4.describe()"
   ]
  },
  {
   "cell_type": "code",
   "execution_count": null,
   "id": "c6913e2f-4a31-4e48-b941-b0b6e89e3cce",
   "metadata": {
    "scrolled": true
   },
   "outputs": [],
   "source": [
    "# Corregimos algunos de los valores numéricos\n",
    "\n",
    "df4.loc[df4['cam_front']==1.2,'cam_front']=12\n",
    "df4.drop(df4[df4['price_norm'] > 10000].index, inplace=True)\n",
    "df4.loc[df4['price_norm']==8,'price_norm']=349"
   ]
  },
  {
   "cell_type": "markdown",
   "id": "163d6330",
   "metadata": {},
   "source": [
    "### Revisamos las variables nominales"
   ]
  },
  {
   "cell_type": "code",
   "execution_count": null,
   "id": "9705efdb-aa70-4277-91cb-cb749dd16ea7",
   "metadata": {
    "scrolled": true
   },
   "outputs": [],
   "source": [
    "# Revisamos las variables nominales\n",
    "\n",
    "df4.describe(include=object)"
   ]
  },
  {
   "cell_type": "code",
   "execution_count": null,
   "id": "e1127caf-ffe1-482e-8fb5-572c98197c7a",
   "metadata": {
    "jupyter": {
     "outputs_hidden": true
    },
    "scrolled": true,
    "tags": []
   },
   "outputs": [],
   "source": [
    "# Convertimos variables a su tipo correspondiente\n",
    "\n",
    "df4['price_norm'] = pd.to_numeric(df4['price_norm'])\n",
    "df4['price_off'] = pd.to_numeric(df4['price_off'])\n",
    "df4['cam_front'] = pd.to_numeric(df4['cam_front'])\n",
    "df4['mem_ram'] = pd.to_numeric(df4['mem_ram'], errors='coerce')\n",
    "df4['cpu_vel'] = pd.to_numeric(df4['cpu_vel'])\n",
    "df4"
   ]
  },
  {
   "cell_type": "markdown",
   "id": "f45899fd",
   "metadata": {},
   "source": [
    "#### Las siguiente variables tuvieron problemas para ser convertidas a numéricas"
   ]
  },
  {
   "cell_type": "code",
   "execution_count": null,
   "id": "8f2f1a04-0b8c-40af-a5e7-071a03556e7c",
   "metadata": {
    "jupyter": {
     "outputs_hidden": true
    },
    "scrolled": false,
    "tags": []
   },
   "outputs": [],
   "source": [
    "df4[df4['price_norm'] == ' ']\n",
    "df4.drop(df4[df4['price_norm'] == ' '].index, inplace=True)"
   ]
  },
  {
   "cell_type": "code",
   "execution_count": null,
   "id": "4d3b7b55-f161-4b16-8208-9a062a214201",
   "metadata": {
    "scrolled": true
   },
   "outputs": [],
   "source": [
    "df4[df4['mem_ram'] == ' ']\n",
    "df4['mem_ram'] = pd.to_numeric(df4['mem_ram'])"
   ]
  },
  {
   "cell_type": "code",
   "execution_count": null,
   "id": "b33fe881-6afa-48c6-8c37-3e2f6dfaa708",
   "metadata": {
    "scrolled": true
   },
   "outputs": [],
   "source": [
    "df4[df4['cpu_vel'] == ' ']\n",
    "df4.loc[df4['cpu_vel']==' ','cpu_vel']=np.NAN"
   ]
  },
  {
   "cell_type": "code",
   "execution_count": null,
   "id": "1f19ef36-5c6d-4c20-b27f-85453f812c97",
   "metadata": {
    "scrolled": true
   },
   "outputs": [],
   "source": [
    "df4[df4['cam_front'] == '5 1080']\n",
    "df4.loc[df4['cam_front']=='5 1080','cam_front']= 5"
   ]
  },
  {
   "cell_type": "markdown",
   "id": "f5c03b8d",
   "metadata": {},
   "source": [
    "#### Trabajamos las variables restantes"
   ]
  },
  {
   "cell_type": "code",
   "execution_count": null,
   "id": "0a6069f1-b10e-44ca-80a5-afddfcf87532",
   "metadata": {
    "scrolled": true
   },
   "outputs": [],
   "source": [
    "df4['conect'].unique()"
   ]
  },
  {
   "cell_type": "code",
   "execution_count": null,
   "id": "103c902d-d44e-4f02-ad68-9761cdee843e",
   "metadata": {
    "scrolled": true
   },
   "outputs": [],
   "source": [
    "# Emparejamos las categorías\n",
    "\n",
    "df4['conect'] = df4['conect'].str.upper()"
   ]
  },
  {
   "cell_type": "code",
   "execution_count": null,
   "id": "b187859c-3bd5-4ce3-bb8e-92aff27ba482",
   "metadata": {
    "scrolled": false
   },
   "outputs": [],
   "source": [
    "df4['water_res'].unique()"
   ]
  },
  {
   "cell_type": "code",
   "execution_count": null,
   "id": "eda03b5c-d4ab-4049-b3c8-5659e13a0051",
   "metadata": {
    "scrolled": true
   },
   "outputs": [],
   "source": [
    "# Reemplazamos uno de los valores por el correspondiente\n",
    "\n",
    "df4.loc[df4['water_res']=='sã\\x83â\\xad','water_res']='si'"
   ]
  },
  {
   "cell_type": "code",
   "execution_count": null,
   "id": "383d6829-6624-4144-b4d2-8e258fa85786",
   "metadata": {
    "scrolled": false
   },
   "outputs": [],
   "source": [
    "df4['screen_type'].unique()"
   ]
  },
  {
   "cell_type": "code",
   "execution_count": null,
   "id": "72029dc3-9d7d-48d9-91c1-c4c6ed298d8a",
   "metadata": {
    "scrolled": true
   },
   "outputs": [],
   "source": [
    "# Creamos una función para reducir la cantidad de categorías\n",
    "\n",
    "def screen_type(x0):\n",
    "    x = x0.split()\n",
    "    if 'ips' in x:\n",
    "        x = 'ips'\n",
    "    elif ('super' in x) and ('amoled' in x):\n",
    "        x = 'super amoled'\n",
    "    elif (('dynamic' in x) and ('amoled' in x)) or (('dynamic' in x) and ('anmoled' in x)):\n",
    "        x = 'dynamic amoled'\n",
    "    elif ('amoled' in x) or ('anmoled' in x):\n",
    "        x = 'amoled'\n",
    "    elif 'retina' in x:\n",
    "        x = 'super retina xdr oled'\n",
    "    elif ('oled' in x) or ('p-oled' in x):\n",
    "        x = 'oled'\n",
    "    else:\n",
    "        x = 'ips'\n",
    "    return x"
   ]
  },
  {
   "cell_type": "code",
   "execution_count": null,
   "id": "0d8a719a-64db-4ef2-8b58-5def91ae25a9",
   "metadata": {
    "scrolled": true
   },
   "outputs": [],
   "source": [
    "# Aplicamos la función\n",
    "\n",
    "df4['screen_type'] = df4['screen_type'].apply(lambda x: screen_type(str(x)))"
   ]
  },
  {
   "cell_type": "code",
   "execution_count": null,
   "id": "cfd7d631-8a8f-428e-9ff5-78546d05e7c3",
   "metadata": {
    "scrolled": true
   },
   "outputs": [],
   "source": [
    "# Corregimos uno de los valores\n",
    "\n",
    "screen_type('super amoled touchscreen capacitivo, 16m colores')"
   ]
  }
 ],
 "metadata": {
  "kernelspec": {
   "display_name": "Python 3 (ipykernel)",
   "language": "python",
   "name": "python3"
  },
  "language_info": {
   "codemirror_mode": {
    "name": "ipython",
    "version": 3
   },
   "file_extension": ".py",
   "mimetype": "text/x-python",
   "name": "python",
   "nbconvert_exporter": "python",
   "pygments_lexer": "ipython3",
   "version": "3.11.1"
  }
 },
 "nbformat": 4,
 "nbformat_minor": 5
}
