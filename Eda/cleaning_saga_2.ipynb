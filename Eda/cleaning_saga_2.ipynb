{
  "cells": [
    {
      "attachments": {},
      "cell_type": "markdown",
      "metadata": {
        "id": "TFATbJNnpwN0"
      },
      "source": [
        "*METAKUNA*\n",
        "<h1 style=\"text-align:center;\">Proyecto final </h1>\n",
        "<h1 style=\"text-align:center;\"> LIMPIEZA DATA SAGA PARTE 2 </h1>"
      ]
    },
    {
      "cell_type": "code",
      "execution_count": null,
      "metadata": {
        "id": "9ZDVISpGEUQy"
      },
      "outputs": [],
      "source": [
        "import pandas as pd\n",
        "import numpy as np"
      ]
    },
    {
      "cell_type": "code",
      "execution_count": null,
      "metadata": {
        "id": "3U2i1loVEvfy"
      },
      "outputs": [],
      "source": [
        "df = pd.read_csv('/content/datasaga1.2.csv',sep=';')"
      ]
    },
    {
      "cell_type": "code",
      "execution_count": null,
      "metadata": {
        "colab": {
          "base_uri": "https://localhost:8080/"
        },
        "id": "o4TcdZsDB1uR",
        "outputId": "d646a55d-40e3-4fc3-b4eb-281b94b57081"
      },
      "outputs": [
        {
          "name": "stdout",
          "output_type": "stream",
          "text": [
            "<class 'pandas.core.frame.DataFrame'>\n",
            "RangeIndex: 1518 entries, 0 to 1517\n",
            "Data columns (total 20 columns):\n",
            " #   Column       Non-Null Count  Dtype  \n",
            "---  ------       --------------  -----  \n",
            " 0   bat          291 non-null    object \n",
            " 1   brand        1517 non-null   object \n",
            " 2   cam_front    1231 non-null   object \n",
            " 3   cam_main     1102 non-null   float64\n",
            " 4   condition    1518 non-null   object \n",
            " 5   conect       1518 non-null   object \n",
            " 6   cores        358 non-null    float64\n",
            " 7   cpu_vel      322 non-null    float64\n",
            " 8   mem_int      1466 non-null   object \n",
            " 9   mem_ram      1394 non-null   object \n",
            " 10  model        1365 non-null   object \n",
            " 11  os           1360 non-null   object \n",
            " 12  product      1518 non-null   object \n",
            " 13  modelo       1518 non-null   object \n",
            " 14  screen_size  998 non-null    float64\n",
            " 15  screen_type  416 non-null    object \n",
            " 16  warranty     1518 non-null   int64  \n",
            " 17  water_res    377 non-null    object \n",
            " 18  price_norm   1516 non-null   object \n",
            " 19  price_off    621 non-null    float64\n",
            "dtypes: float64(5), int64(1), object(14)\n",
            "memory usage: 237.3+ KB\n"
          ]
        }
      ],
      "source": [
        "df.info()"
      ]
    },
    {
      "cell_type": "code",
      "execution_count": null,
      "metadata": {
        "id": "LASOtguKFfRH"
      },
      "outputs": [],
      "source": [
        "## convirtiendo las varaibles nominales a minusculas, para estandirizar con las demas datas.\n",
        "\n",
        "df['brand'] = df['brand'].str.lower()\n",
        "#df['color'] = df['color'].str.lower()\n",
        "df['condition'] = df['condition'].str.lower()\n",
        "df['contect'] = df['conect'].str.lower()\n",
        "#df['cores'] = df['cores'].str.lower()\n",
        "df['model'] = df['model'].str.lower()\n",
        "df['os'] = df['os'].str.lower()\n",
        "df['modelo'] = df['modelo'].str.lower()\n",
        "df['screen_type'] = df['screen_type'].str.lower()\n",
        "df['water_res'] = df['water_res'].str.lower()"
      ]
    },
    {
      "cell_type": "code",
      "execution_count": null,
      "metadata": {
        "colab": {
          "base_uri": "https://localhost:8080/"
        },
        "id": "yN_msw5Gd2ry",
        "outputId": "8c695d80-73ab-4fa3-add6-4c5686d9d13b"
      },
      "outputs": [
        {
          "data": {
            "text/plain": [
              "array([   nan,   2.4 ,   3.36,   2.9 ,   2.3 ,   2.  ,   2.8 ,   2.99,\n",
              "         3.19,   2.65,   1.6 ,   2.5 ,   3.23,   1.8 ,   2.84, 239.  ,\n",
              "         3.  ,   2.39,   3.18,   2.2 ,   1.3 ,   2.7 ,   2.35,   1.5 ,\n",
              "         2.6 ,   1.  ,   2.1 ,   1.2 ,   3.46,   2.96,   2.05,   2.73])"
            ]
          },
          "execution_count": 8,
          "metadata": {},
          "output_type": "execute_result"
        }
      ],
      "source": [
        "df['cpu_vel'].unique()"
      ]
    },
    {
      "cell_type": "code",
      "execution_count": null,
      "metadata": {
        "colab": {
          "base_uri": "https://localhost:8080/",
          "height": 542
        },
        "id": "GcxiFZNMqgHy",
        "outputId": "1808eba8-65b4-4d7b-bf53-9ad2db92a80e"
      },
      "outputs": [
        {
          "data": {
            "text/html": [
              "\n",
              "  <div id=\"df-1e331acc-afcd-428b-9e4f-433b688f227b\">\n",
              "    <div class=\"colab-df-container\">\n",
              "      <div>\n",
              "<style scoped>\n",
              "    .dataframe tbody tr th:only-of-type {\n",
              "        vertical-align: middle;\n",
              "    }\n",
              "\n",
              "    .dataframe tbody tr th {\n",
              "        vertical-align: top;\n",
              "    }\n",
              "\n",
              "    .dataframe thead th {\n",
              "        text-align: right;\n",
              "    }\n",
              "</style>\n",
              "<table border=\"1\" class=\"dataframe\">\n",
              "  <thead>\n",
              "    <tr style=\"text-align: right;\">\n",
              "      <th></th>\n",
              "      <th>bat</th>\n",
              "      <th>brand</th>\n",
              "      <th>cam_front</th>\n",
              "      <th>cam_main</th>\n",
              "      <th>condition</th>\n",
              "      <th>conect</th>\n",
              "      <th>cores</th>\n",
              "      <th>cpu_vel</th>\n",
              "      <th>mem_int</th>\n",
              "      <th>mem_ram</th>\n",
              "      <th>...</th>\n",
              "      <th>os</th>\n",
              "      <th>product</th>\n",
              "      <th>modelo</th>\n",
              "      <th>screen_size</th>\n",
              "      <th>screen_type</th>\n",
              "      <th>warranty</th>\n",
              "      <th>water_res</th>\n",
              "      <th>price_norm</th>\n",
              "      <th>price_off</th>\n",
              "      <th>contect</th>\n",
              "    </tr>\n",
              "  </thead>\n",
              "  <tbody>\n",
              "    <tr>\n",
              "      <th>0</th>\n",
              "      <td>NaN</td>\n",
              "      <td>xiaomi</td>\n",
              "      <td>5</td>\n",
              "      <td>8.0</td>\n",
              "      <td>nuevo</td>\n",
              "      <td>4G</td>\n",
              "      <td>NaN</td>\n",
              "      <td>NaN</td>\n",
              "      <td>32</td>\n",
              "      <td>2</td>\n",
              "      <td>...</td>\n",
              "      <td>android</td>\n",
              "      <td>Smartphone 6.5 2GB RAM 32GB ROM Redmi A1 - Lig...</td>\n",
              "      <td>redmi a1</td>\n",
              "      <td>6.0</td>\n",
              "      <td>NaN</td>\n",
              "      <td>3</td>\n",
              "      <td>NaN</td>\n",
              "      <td></td>\n",
              "      <td>699.0</td>\n",
              "      <td>4g</td>\n",
              "    </tr>\n",
              "    <tr>\n",
              "      <th>1</th>\n",
              "      <td>5000</td>\n",
              "      <td>samsung</td>\n",
              "      <td>13</td>\n",
              "      <td>48.0</td>\n",
              "      <td>nuevo</td>\n",
              "      <td>5G</td>\n",
              "      <td>8.0</td>\n",
              "      <td>2.40</td>\n",
              "      <td>128</td>\n",
              "      <td>6</td>\n",
              "      <td>...</td>\n",
              "      <td>android</td>\n",
              "      <td>Galaxy A33 5G 128GB 6GB Negro</td>\n",
              "      <td>galaxy a33</td>\n",
              "      <td>6.4</td>\n",
              "      <td>super amoled</td>\n",
              "      <td>3</td>\n",
              "      <td>NaN</td>\n",
              "      <td>1199</td>\n",
              "      <td>NaN</td>\n",
              "      <td>5g</td>\n",
              "    </tr>\n",
              "    <tr>\n",
              "      <th>2</th>\n",
              "      <td>3900</td>\n",
              "      <td>samsung</td>\n",
              "      <td>12</td>\n",
              "      <td>50.0</td>\n",
              "      <td>nuevo</td>\n",
              "      <td>5G</td>\n",
              "      <td>8.0</td>\n",
              "      <td>3.36</td>\n",
              "      <td>128</td>\n",
              "      <td>8</td>\n",
              "      <td>...</td>\n",
              "      <td>android 13</td>\n",
              "      <td>Galaxy S23 128GB 8GB</td>\n",
              "      <td>galaxy s23</td>\n",
              "      <td>6.1</td>\n",
              "      <td>dynamic amoled 2x</td>\n",
              "      <td>3</td>\n",
              "      <td>si</td>\n",
              "      <td></td>\n",
              "      <td>3999.0</td>\n",
              "      <td>5g</td>\n",
              "    </tr>\n",
              "    <tr>\n",
              "      <th>3</th>\n",
              "      <td></td>\n",
              "      <td>apple</td>\n",
              "      <td>12</td>\n",
              "      <td>NaN</td>\n",
              "      <td>nuevo</td>\n",
              "      <td>5G</td>\n",
              "      <td>6.0</td>\n",
              "      <td>NaN</td>\n",
              "      <td>128</td>\n",
              "      <td></td>\n",
              "      <td>...</td>\n",
              "      <td>ios</td>\n",
              "      <td>Apple iPhone 14 Pro 128GB</td>\n",
              "      <td>iphone 14 pro</td>\n",
              "      <td>6.1</td>\n",
              "      <td>super retina xdr</td>\n",
              "      <td>3</td>\n",
              "      <td>si</td>\n",
              "      <td>5899</td>\n",
              "      <td>NaN</td>\n",
              "      <td>5g</td>\n",
              "    </tr>\n",
              "    <tr>\n",
              "      <th>4</th>\n",
              "      <td>4300</td>\n",
              "      <td>honor</td>\n",
              "      <td>16</td>\n",
              "      <td>64.0</td>\n",
              "      <td>nuevo</td>\n",
              "      <td>4G</td>\n",
              "      <td>NaN</td>\n",
              "      <td>NaN</td>\n",
              "      <td>128</td>\n",
              "      <td>6</td>\n",
              "      <td>...</td>\n",
              "      <td>android 11</td>\n",
              "      <td>Smartphone Honor 50 Lite 128Gb 6Gb Nano Sim Si...</td>\n",
              "      <td>honor 50 lite</td>\n",
              "      <td>NaN</td>\n",
              "      <td>NaN</td>\n",
              "      <td>3</td>\n",
              "      <td>no</td>\n",
              "      <td>999</td>\n",
              "      <td>NaN</td>\n",
              "      <td>4g</td>\n",
              "    </tr>\n",
              "  </tbody>\n",
              "</table>\n",
              "<p>5 rows × 21 columns</p>\n",
              "</div>\n",
              "      <button class=\"colab-df-convert\" onclick=\"convertToInteractive('df-1e331acc-afcd-428b-9e4f-433b688f227b')\"\n",
              "              title=\"Convert this dataframe to an interactive table.\"\n",
              "              style=\"display:none;\">\n",
              "        \n",
              "  <svg xmlns=\"http://www.w3.org/2000/svg\" height=\"24px\"viewBox=\"0 0 24 24\"\n",
              "       width=\"24px\">\n",
              "    <path d=\"M0 0h24v24H0V0z\" fill=\"none\"/>\n",
              "    <path d=\"M18.56 5.44l.94 2.06.94-2.06 2.06-.94-2.06-.94-.94-2.06-.94 2.06-2.06.94zm-11 1L8.5 8.5l.94-2.06 2.06-.94-2.06-.94L8.5 2.5l-.94 2.06-2.06.94zm10 10l.94 2.06.94-2.06 2.06-.94-2.06-.94-.94-2.06-.94 2.06-2.06.94z\"/><path d=\"M17.41 7.96l-1.37-1.37c-.4-.4-.92-.59-1.43-.59-.52 0-1.04.2-1.43.59L10.3 9.45l-7.72 7.72c-.78.78-.78 2.05 0 2.83L4 21.41c.39.39.9.59 1.41.59.51 0 1.02-.2 1.41-.59l7.78-7.78 2.81-2.81c.8-.78.8-2.07 0-2.86zM5.41 20L4 18.59l7.72-7.72 1.47 1.35L5.41 20z\"/>\n",
              "  </svg>\n",
              "      </button>\n",
              "      \n",
              "  <style>\n",
              "    .colab-df-container {\n",
              "      display:flex;\n",
              "      flex-wrap:wrap;\n",
              "      gap: 12px;\n",
              "    }\n",
              "\n",
              "    .colab-df-convert {\n",
              "      background-color: #E8F0FE;\n",
              "      border: none;\n",
              "      border-radius: 50%;\n",
              "      cursor: pointer;\n",
              "      display: none;\n",
              "      fill: #1967D2;\n",
              "      height: 32px;\n",
              "      padding: 0 0 0 0;\n",
              "      width: 32px;\n",
              "    }\n",
              "\n",
              "    .colab-df-convert:hover {\n",
              "      background-color: #E2EBFA;\n",
              "      box-shadow: 0px 1px 2px rgba(60, 64, 67, 0.3), 0px 1px 3px 1px rgba(60, 64, 67, 0.15);\n",
              "      fill: #174EA6;\n",
              "    }\n",
              "\n",
              "    [theme=dark] .colab-df-convert {\n",
              "      background-color: #3B4455;\n",
              "      fill: #D2E3FC;\n",
              "    }\n",
              "\n",
              "    [theme=dark] .colab-df-convert:hover {\n",
              "      background-color: #434B5C;\n",
              "      box-shadow: 0px 1px 3px 1px rgba(0, 0, 0, 0.15);\n",
              "      filter: drop-shadow(0px 1px 2px rgba(0, 0, 0, 0.3));\n",
              "      fill: #FFFFFF;\n",
              "    }\n",
              "  </style>\n",
              "\n",
              "      <script>\n",
              "        const buttonEl =\n",
              "          document.querySelector('#df-1e331acc-afcd-428b-9e4f-433b688f227b button.colab-df-convert');\n",
              "        buttonEl.style.display =\n",
              "          google.colab.kernel.accessAllowed ? 'block' : 'none';\n",
              "\n",
              "        async function convertToInteractive(key) {\n",
              "          const element = document.querySelector('#df-1e331acc-afcd-428b-9e4f-433b688f227b');\n",
              "          const dataTable =\n",
              "            await google.colab.kernel.invokeFunction('convertToInteractive',\n",
              "                                                     [key], {});\n",
              "          if (!dataTable) return;\n",
              "\n",
              "          const docLinkHtml = 'Like what you see? Visit the ' +\n",
              "            '<a target=\"_blank\" href=https://colab.research.google.com/notebooks/data_table.ipynb>data table notebook</a>'\n",
              "            + ' to learn more about interactive tables.';\n",
              "          element.innerHTML = '';\n",
              "          dataTable['output_type'] = 'display_data';\n",
              "          await google.colab.output.renderOutput(dataTable, element);\n",
              "          const docLink = document.createElement('div');\n",
              "          docLink.innerHTML = docLinkHtml;\n",
              "          element.appendChild(docLink);\n",
              "        }\n",
              "      </script>\n",
              "    </div>\n",
              "  </div>\n",
              "  "
            ],
            "text/plain": [
              "    bat    brand cam_front  cam_main condition conect  cores  cpu_vel mem_int  \\\n",
              "0   NaN   xiaomi         5       8.0     nuevo     4G    NaN      NaN      32   \n",
              "1  5000  samsung        13      48.0     nuevo     5G    8.0     2.40     128   \n",
              "2  3900  samsung        12      50.0     nuevo     5G    8.0     3.36     128   \n",
              "3          apple        12       NaN     nuevo     5G    6.0      NaN     128   \n",
              "4  4300    honor        16      64.0     nuevo     4G    NaN      NaN     128   \n",
              "\n",
              "  mem_ram  ...          os                                            product  \\\n",
              "0       2  ...     android  Smartphone 6.5 2GB RAM 32GB ROM Redmi A1 - Lig...   \n",
              "1       6  ...     android                     Galaxy A33 5G 128GB 6GB Negro    \n",
              "2       8  ...  android 13                              Galaxy S23 128GB 8GB    \n",
              "3          ...         ios                         Apple iPhone 14 Pro 128GB    \n",
              "4       6  ...  android 11  Smartphone Honor 50 Lite 128Gb 6Gb Nano Sim Si...   \n",
              "\n",
              "          modelo screen_size        screen_type warranty  water_res  \\\n",
              "0       redmi a1         6.0                NaN        3        NaN   \n",
              "1     galaxy a33         6.4       super amoled        3        NaN   \n",
              "2     galaxy s23         6.1  dynamic amoled 2x        3         si   \n",
              "3  iphone 14 pro         6.1   super retina xdr        3         si   \n",
              "4  honor 50 lite         NaN                NaN        3         no   \n",
              "\n",
              "  price_norm price_off  contect  \n",
              "0                699.0       4g  \n",
              "1       1199       NaN       5g  \n",
              "2               3999.0       5g  \n",
              "3       5899       NaN       5g  \n",
              "4        999       NaN       4g  \n",
              "\n",
              "[5 rows x 21 columns]"
            ]
          },
          "execution_count": 9,
          "metadata": {},
          "output_type": "execute_result"
        }
      ],
      "source": [
        "df.head()"
      ]
    },
    {
      "cell_type": "code",
      "execution_count": null,
      "metadata": {
        "id": "WcZR0ipJv-Do"
      },
      "outputs": [],
      "source": [
        "# obteniendo de la columna producto la palabra 5G, si es que tiene\n",
        "df['conect'] = np.where(df['product'].str.contains('5G'), '5G', df['conect'])"
      ]
    },
    {
      "cell_type": "code",
      "execution_count": null,
      "metadata": {
        "id": "VvG2jsu_-Rt5"
      },
      "outputs": [],
      "source": [
        "df[\"conect\"]=df['conect'].astype(str)"
      ]
    },
    {
      "cell_type": "code",
      "execution_count": null,
      "metadata": {
        "colab": {
          "base_uri": "https://localhost:8080/"
        },
        "id": "cwmogrdq-cgC",
        "outputId": "05af7061-9d89-4c58-97ba-e766f0949c05"
      },
      "outputs": [
        {
          "data": {
            "text/plain": [
              "array(['4G', '5G', '3G', '2G'], dtype=object)"
            ]
          },
          "execution_count": 12,
          "metadata": {},
          "output_type": "execute_result"
        }
      ],
      "source": [
        "df['conect'].unique()"
      ]
    },
    {
      "cell_type": "code",
      "execution_count": null,
      "metadata": {
        "id": "FVxXWlzPAYa4"
      },
      "outputs": [],
      "source": [
        "# volviendo a mayusculas esos valores y reemplazando los nan por 4G\n",
        "df['conect'] = df['conect'].replace(['nan', '4G '], '4G')\n",
        "df['conect'] = df['conect'].replace(['4g'], '4G')\n",
        "df['conect'] = df['conect'].replace(['5g'], '5G')"
      ]
    },
    {
      "cell_type": "code",
      "execution_count": null,
      "metadata": {
        "colab": {
          "base_uri": "https://localhost:8080/"
        },
        "id": "icFNB_gCEhrA",
        "outputId": "02e5a28b-2316-4e48-905f-130695a48b14"
      },
      "outputs": [
        {
          "data": {
            "text/plain": [
              "array(['nuevo', 'reacondicionado'], dtype=object)"
            ]
          },
          "execution_count": 15,
          "metadata": {},
          "output_type": "execute_result"
        }
      ],
      "source": [
        "df['condition'].unique()"
      ]
    },
    {
      "cell_type": "code",
      "execution_count": null,
      "metadata": {
        "id": "NqkaZFxoE3mL"
      },
      "outputs": [],
      "source": [
        "# agrupando las eriquetas similares en una sola categoria\n",
        "df['condition'] = df['condition'].replace(['reacondicionado ', 'reacondicionado', 'reacondicionado excelente (a)', 'reacondicionado detalle estético (b)', 'sin uso con detalle estético'], 'reacondicionado')\n",
        "df['condition'].fillna(value='nuevo', inplace=True)"
      ]
    },
    {
      "cell_type": "code",
      "execution_count": null,
      "metadata": {
        "colab": {
          "base_uri": "https://localhost:8080/"
        },
        "id": "vcGfpQmjF3WJ",
        "outputId": "91b77939-4d86-4ef3-87db-c021e0e9ceff"
      },
      "outputs": [
        {
          "data": {
            "text/plain": [
              "array(['nuevo', 'reacondicionado'], dtype=object)"
            ]
          },
          "execution_count": 16,
          "metadata": {},
          "output_type": "execute_result"
        }
      ],
      "source": [
        "df['condition'].unique()"
      ]
    },
    {
      "cell_type": "code",
      "execution_count": null,
      "metadata": {
        "id": "6ZBYJwz-HSY8"
      },
      "outputs": [],
      "source": [
        "df['warranty'] = np.where(df['condition'] == 'nuevo', 12, 3)"
      ]
    },
    {
      "cell_type": "code",
      "execution_count": null,
      "metadata": {
        "id": "sT5qhI0xMwD6"
      },
      "outputs": [],
      "source": [
        "# haciendo lo mismo para water_res agrupar y reemplazar\n",
        "var = [\n",
        "        'ip68 (protegido contra inmersión)',\n",
        "        'ip68',\n",
        "        'ipx0 (sin protección especial)', \n",
        "        'ipx8 (protegido contra inmersión)',\n",
        "        'ipx7 (protegido contra los efectos de la inmersión a 1 metro durante 30 minutos)',\n",
        "        'ipx1 (protegido contra el agua vertida: goteo)',\n",
        "        'ipx4 (protegido contra las salpicaduras de agua)',\n",
        "        'ipx6 (protegido contra chorros a alta presión)',\n",
        "        'ipx5 (protegido contra el agua en chorros a presión)',\n",
        "        'ipx3 (protegido contra el agua rociada: spray)', 'sí',\n",
        "        'ipx8 (protegido contra inmersión: la profundidad debe ser indicada por el proveedor en información adicional)',\n",
        "        'ipx2 (protegido contra el agua vertida: goteo, cuando está inclinado hasta 15 grados con respecto a su posición normal)'\n",
        "       ]\n",
        "df['water_res'] = df['water_res'].replace(var, 'si')"
      ]
    },
    {
      "cell_type": "code",
      "execution_count": null,
      "metadata": {
        "colab": {
          "base_uri": "https://localhost:8080/"
        },
        "id": "s04nCkqGNzpF",
        "outputId": "440d24c4-c661-475e-ec36-dea78bec9143"
      },
      "outputs": [
        {
          "data": {
            "text/plain": [
              "array([nan, 'si', 'no'], dtype=object)"
            ]
          },
          "execution_count": 22,
          "metadata": {},
          "output_type": "execute_result"
        }
      ],
      "source": [
        "df['water_res'].unique()"
      ]
    },
    {
      "cell_type": "code",
      "execution_count": null,
      "metadata": {
        "id": "QPfcXAaGdSlu"
      },
      "outputs": [],
      "source": [
        "df['modelo'] = df['modelo'].str.strip()"
      ]
    },
    {
      "cell_type": "code",
      "execution_count": null,
      "metadata": {
        "colab": {
          "base_uri": "https://localhost:8080/"
        },
        "id": "FNHDnWfbl1c-",
        "outputId": "320c3d7c-0599-400a-dd69-eb21fe060c37"
      },
      "outputs": [
        {
          "data": {
            "text/plain": [
              "array([nan,  8.,  6.,  4.,  2.,  1.,  3.])"
            ]
          },
          "execution_count": 26,
          "metadata": {},
          "output_type": "execute_result"
        }
      ],
      "source": [
        "df['cores'].unique()"
      ]
    },
    {
      "cell_type": "code",
      "execution_count": null,
      "metadata": {
        "id": "STSSRcUVm-du"
      },
      "outputs": [],
      "source": [
        "# reemplazando los valores de la columna cores por valores numericos\n",
        "df['cores'] = df['cores'].replace(['octa core'], '8')\n",
        "df['cores'] = df['cores'].replace(['hexa core'], '6')\n",
        "df['cores'] = df['cores'].replace(['dual core'], '2')\n",
        "df['cores'] = df['cores'].replace(['quad core'], '4')\n",
        "df['cores'] = df['cores'].replace(['triple core'], '3')\n",
        "df['cores'] = df['cores'].replace(['single core'], '1')"
      ]
    },
    {
      "cell_type": "code",
      "execution_count": null,
      "metadata": {
        "colab": {
          "base_uri": "https://localhost:8080/"
        },
        "id": "UtCQFDI3oq9_",
        "outputId": "925d3103-5718-4775-d0aa-cec6da61310f"
      },
      "outputs": [
        {
          "data": {
            "text/plain": [
              "array([nan,  8.,  6.,  4.,  2.,  1.,  3.])"
            ]
          },
          "execution_count": 28,
          "metadata": {},
          "output_type": "execute_result"
        }
      ],
      "source": [
        "df['cores'].unique()"
      ]
    },
    {
      "cell_type": "code",
      "execution_count": null,
      "metadata": {
        "id": "yUYQQbCz5BZA"
      },
      "outputs": [],
      "source": [
        "#obteniendo a partir de la columna porduct valores para la columna mem_int \n",
        "df['mem_int'] = np.where(df['product'].str.contains('128'), 128, df['mem_int'])\n",
        "df['mem_int'] = np.where(df['product'].str.contains('256'), 256, df['mem_int'])\n",
        "df['mem_int'] = np.where(df['product'].str.contains('64'), 64, df['mem_int'])\n",
        "df['mem_int'] = np.where(df['product'].str.contains('512'), 512, df['mem_int'])\n",
        "df['mem_int'] = np.where(df['product'].str.contains('32'), 32, df['mem_int'])"
      ]
    },
    {
      "cell_type": "code",
      "execution_count": null,
      "metadata": {
        "colab": {
          "base_uri": "https://localhost:8080/"
        },
        "id": "GGcj9gJYv6VL",
        "outputId": "8fdd2dc5-56b6-449d-b702-f983adb27286"
      },
      "outputs": [
        {
          "data": {
            "text/plain": [
              "array(['android', 'android 13', 'ios', 'android 11', 'android 12', nan,\n",
              "       'android tv', 'android 10', 'android 11 go', 'android 8.1',\n",
              "       'android¿ 11', 'de fabricante', 'android 7', 'emui 12',\n",
              "       'windows 7', 'android 9.0', 'andriod', 'sin os', 'no aplica',\n",
              "       'android 8', 'linux', 'universal', 'nokia series os', 'osx',\n",
              "       'kaios', 'ipados', 'spreadtrum'], dtype=object)"
            ]
          },
          "execution_count": 33,
          "metadata": {},
          "output_type": "execute_result"
        }
      ],
      "source": [
        "df['os'].unique()"
      ]
    },
    {
      "cell_type": "code",
      "execution_count": null,
      "metadata": {
        "id": "78Q1XjzGwEFh"
      },
      "outputs": [],
      "source": [
        "#agrupando valores similares en algunas categorias, en la variable os\n",
        "dta = ['android 13', 'android 11', 'android 12','android tv', \n",
        "       'android 10', 'android 11 go', 'android 8.1',\n",
        "       'android¿ 11', 'android 7', 'emui 12','android 8','andriod','android 9.0']\n",
        "col = [\n",
        "    'de fabricante', 'windows 7',\n",
        "       'sin os', 'no aplica', 'linux', 'universal', 'nokia series os',\n",
        "       'osx', 'kaios', 'ipados', 'spreadtrum'\n",
        "      ]\n",
        "df['os'] = df['os'].replace(dta, 'android')\n",
        "df['os'] = df['os'].replace(col, 'otros')"
      ]
    },
    {
      "cell_type": "code",
      "execution_count": null,
      "metadata": {
        "colab": {
          "base_uri": "https://localhost:8080/"
        },
        "id": "wcoYonB2x4LI",
        "outputId": "2108cd4c-ed55-4a12-98c6-47f6b6132433"
      },
      "outputs": [
        {
          "data": {
            "text/plain": [
              "array(['android', 'ios', nan, 'otros'], dtype=object)"
            ]
          },
          "execution_count": 39,
          "metadata": {},
          "output_type": "execute_result"
        }
      ],
      "source": [
        "df['os'].unique()"
      ]
    },
    {
      "cell_type": "code",
      "execution_count": null,
      "metadata": {
        "id": "xWvB5_jcxrFO"
      },
      "outputs": [],
      "source": [
        "# exportando el dataframe trabajado a un archivo csv\n",
        "df.to_csv('datasaga1.3.csv', index=False)"
      ]
    }
  ],
  "metadata": {
    "colab": {
      "provenance": []
    },
    "kernelspec": {
      "display_name": "Python 3",
      "name": "python3"
    },
    "language_info": {
      "name": "python"
    }
  },
  "nbformat": 4,
  "nbformat_minor": 0
}
